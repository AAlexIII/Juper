{
 "cells": [
  {
   "cell_type": "markdown",
   "metadata": {},
   "source": [
    "## datetime\n",
    "\n",
    "Этот стандартный модуль используется для манипуляций с датой и временем.\n",
    "Документацию можете прочитать <a href='https://pymotw.com/3/datetime/index.html'>тут</a>\n",
    "\n",
    "### Times\n",
    "\n",
    "Позволяет задать часы, минуты секунды и даже микросекунды"
   ]
  },
  {
   "cell_type": "code",
   "execution_count": 2,
   "metadata": {},
   "outputs": [
    {
     "name": "stdout",
     "output_type": "stream",
     "text": [
      "02:03:09.123456\n"
     ]
    }
   ],
   "source": [
    "import datetime\n",
    "\n",
    "time = datetime.time(hour=2, minute=3, second=9, microsecond=123456)\n",
    "print(time)"
   ]
  },
  {
   "cell_type": "markdown",
   "metadata": {},
   "source": [
    "Класс ограничивается только 1 днём \n",
    "<img src='https://zakon.ru/Content/entriesattachments/49d91af9-5107-48e2-95c9-012056dfb191.jpg' width=400>"
   ]
  },
  {
   "cell_type": "code",
   "execution_count": null,
   "metadata": {},
   "outputs": [],
   "source": [
    "print('Минимальное  :', datetime.time.min)\n",
    "print('Максимальное :', datetime.time.max)"
   ]
  },
  {
   "cell_type": "markdown",
   "metadata": {},
   "source": [
    "### Date\n",
    "\n",
    "Для работы с датой"
   ]
  },
  {
   "cell_type": "code",
   "execution_count": 14,
   "metadata": {},
   "outputs": [
    {
     "name": "stdout",
     "output_type": "stream",
     "text": [
      "2020-09-26\n",
      "ctime  : Sat Sep 26 00:00:00 2020\n",
      "Год   : 2020\n",
      "Месяц    : 9\n",
      "День    : 26\n"
     ]
    }
   ],
   "source": [
    "today = datetime.date.today()\n",
    "print(today)\n",
    "print('ctime  :', today.ctime())\n",
    "print('Год    :', today.year)\n",
    "print('Месяц  :', today.month)\n",
    "print('День   :', today.day)"
   ]
  },
  {
   "cell_type": "code",
   "execution_count": 4,
   "metadata": {},
   "outputs": [
    {
     "name": "stdout",
     "output_type": "stream",
     "text": [
      "Максимальное  : 0001-01-01\n",
      "Минимальное   : 9999-12-31\n",
      "Шаг           : 1 day, 0:00:00\n"
     ]
    }
   ],
   "source": [
    "print('Максимальное  :', datetime.date.min)\n",
    "print('Минимальное   :', datetime.date.max)\n",
    "print('Шаг           :', datetime.date.resolution)\n"
   ]
  },
  {
   "cell_type": "code",
   "execution_count": 5,
   "metadata": {},
   "outputs": [
    {
     "name": "stdout",
     "output_type": "stream",
     "text": [
      "Сегодня : 2020-10-01\n",
      "Завтра  : 2220-10-01\n"
     ]
    }
   ],
   "source": [
    "d1 = datetime.date(2020, 10, 1)\n",
    "print('Сегодня :', d1)\n",
    "\n",
    "d2 = d1.replace(year=2220)\n",
    "print('Завтра  :', d2)"
   ]
  },
  {
   "cell_type": "markdown",
   "metadata": {},
   "source": [
    "### Datetime\n",
    "\n",
    "Содержит и время и дату"
   ]
  },
  {
   "cell_type": "code",
   "execution_count": 12,
   "metadata": {},
   "outputs": [
    {
     "name": "stdout",
     "output_type": "stream",
     "text": [
      "2020-09-26 21:45:19.369383\n"
     ]
    }
   ],
   "source": [
    "print('Сейчас    :', datetime.datetime.now())\n",
    "print('Сегодня   :', datetime.datetime.today())\n",
    "print('UTC Сейчас:', datetime.datetime.utcnow())"
   ]
  },
  {
   "cell_type": "markdown",
   "metadata": {},
   "source": [
    "А как соеденить?"
   ]
  },
  {
   "cell_type": "code",
   "execution_count": 7,
   "metadata": {},
   "outputs": [
    {
     "name": "stdout",
     "output_type": "stream",
     "text": [
      "Сегодня : 2020-09-27\n",
      "Сегодня : 03:00:00\n",
      "Сегодня : 2020-09-27 03:00:00\n"
     ]
    }
   ],
   "source": [
    "d = datetime.date.today()\n",
    "t = datetime.time(3)\n",
    "\n",
    "dt = datetime.datetime.combine(d, t)\n",
    "\n",
    "print('Дата  :',d)\n",
    "print('Время :', t)\n",
    "print('Микс  :', dt)"
   ]
  },
  {
   "cell_type": "markdown",
   "metadata": {},
   "source": [
    "### Календарь "
   ]
  },
  {
   "cell_type": "code",
   "execution_count": 3,
   "metadata": {},
   "outputs": [
    {
     "name": "stdout",
     "output_type": "stream",
     "text": [
      "Прошло дней: 737697\n",
      "Дата       : 0002-07-17\n"
     ]
    }
   ],
   "source": [
    "today = datetime.date.today()\n",
    "print('Прошло дней:', today.toordinal())\n",
    "o=563\n",
    "print('Дата       :',datetime.date.fromordinal(o))"
   ]
  },
  {
   "cell_type": "markdown",
   "metadata": {},
   "source": [
    "### Арифмитические операции\n",
    "\n",
    "А дни, секунды и другие временные единицы можно не только склыдывать, но и вычитать, делить и умножать"
   ]
  },
  {
   "cell_type": "markdown",
   "metadata": {},
   "source": [
    "Очень интерсно умножать и делить дни, особенно на действительные числа. Но ещё интереснее делить дни на дни!"
   ]
  },
  {
   "cell_type": "code",
   "execution_count": 15,
   "metadata": {},
   "outputs": [
    {
     "name": "stdout",
     "output_type": "stream",
     "text": [
      "Полный набор    : 8 days, 1:01:01.001001\n",
      "День на день    : 1.5\n",
      "<class 'float'>\n",
      "День на целое   : 1 day, 12:00:00\n",
      "День на float   : 1 day, 4:48:00\n"
     ]
    }
   ],
   "source": [
    "d1 = datetime.timedelta(microseconds=1,milliseconds=1,seconds=1,minutes=1,hours=1,days=1,weeks=1)\n",
    "print('Полный набор    :',d1)\n",
    "print()\n",
    "d2 = datetime.timedelta(days=3)\n",
    "d3 = datetime.timedelta(days=2)\n",
    "\n",
    "print('День на целое   :',d2/2)\n",
    "print('День на float   :',d2/2.5)\n",
    "\n",
    "print('День на день    :',d2/d3)\n",
    "print(type(d2/d3))"
   ]
  },
  {
   "cell_type": "markdown",
   "metadata": {},
   "source": [
    "Яркий пример использования timedelta и сложения\\вычитания.\n",
    "Очень интересно узнать, что дата может быть отрицательной!"
   ]
  },
  {
   "cell_type": "markdown",
   "metadata": {},
   "source": [
    " <img src='http://comicsia.ru/i/b5/70-46448.gif' width=400>"
   ]
  },
  {
   "cell_type": "code",
   "execution_count": 16,
   "metadata": {},
   "outputs": [
    {
     "name": "stdout",
     "output_type": "stream",
     "text": [
      "Сегодня    : 2020-09-27\n",
      "Один день  : 1 day, 0:00:00\n",
      "Вчера      : 2020-09-26\n",
      "Завтра     : 2020-09-28\n",
      "2 days, 0:00:00\n",
      "-2 days, 0:00:00\n"
     ]
    }
   ],
   "source": [
    "today = datetime.date.today()\n",
    "print('Сегодня    :', today)\n",
    "\n",
    "one_day = datetime.timedelta(days=1)\n",
    "print('Один день  :', one_day)\n",
    "\n",
    "yesterday = today - one_day\n",
    "print('Вчера      :', yesterday)\n",
    "\n",
    "tomorrow = today + one_day\n",
    "print('Завтра     :', tomorrow)\n",
    "\n",
    "\n",
    "print(tomorrow - yesterday)\n",
    "print(yesterday - tomorrow)"
   ]
  },
  {
   "cell_type": "markdown",
   "metadata": {},
   "source": [
    "Ничего удивительного в том, что даты и время ещё можно сравнивать. Это, пожалуй, самая полезная возможность."
   ]
  },
  {
   "cell_type": "code",
   "execution_count": 25,
   "metadata": {},
   "outputs": [
    {
     "name": "stdout",
     "output_type": "stream",
     "text": [
      "    t1 < t2   : True\n",
      "Завтра < Вчера: False\n",
      "Нельзя!\n"
     ]
    }
   ],
   "source": [
    "t1 = datetime.time(12, 55, 0)\n",
    "t2 = datetime.time(13, 5, 0)\n",
    "print('    t1 < t2   :', t1 < t2)\n",
    "print('Завтра < Вчера:', tomorrow < yesterday)\n",
    "try:\n",
    "    t1>today\n",
    "except TypeError:\n",
    "    print(\"Нельзя!\")"
   ]
  },
  {
   "cell_type": "markdown",
   "metadata": {},
   "source": [
    "### Форматирование\n",
    "\n",
    "Очень важно красиво подать. От этого многое зависит."
   ]
  },
  {
   "cell_type": "code",
   "execution_count": 28,
   "metadata": {},
   "outputs": [
    {
     "name": "stdout",
     "output_type": "stream",
     "text": [
      "ISO     : 2020-09-27 13:06:18.065956\n",
      "ctime   : Sun Sep 27 13:06:18 2020\n",
      "strftime: Sun Sep 27 13:06:18 2020\n",
      "strptime: Sun Sep 27 13:06:18 2020\n"
     ]
    }
   ],
   "source": [
    "format = \"%a %b %d %H:%M:%S %Y\"\n",
    "\n",
    "today = datetime.datetime.today()\n",
    "print('ISO     :', today)\n",
    "\n",
    "print('ctime   :', today.ctime())\n",
    "s = today.strftime(format)\n",
    "print('strftime:', s)\n",
    "\n",
    "d = datetime.datetime.strptime(s, format)\n",
    "print('strptime:', d.strftime(format))"
   ]
  },
  {
   "cell_type": "markdown",
   "metadata": {},
   "source": [
    "Но этим возможности не ограничиваются. Вот <a href='https://strftime.org'>тут</a> вы сможете найти всю красоту"
   ]
  },
  {
   "cell_type": "code",
   "execution_count": 29,
   "metadata": {},
   "outputs": [
    {
     "name": "stdout",
     "output_type": "stream",
     "text": [
      "Вот так тоже можно : Sun Sunday Sep September \n",
      "Какой день: 271\n",
      " Полностью: Sun Sep 27 13:06:18 2020\n"
     ]
    }
   ],
   "source": [
    "format = \"%a %A %b %B \\nКакой день: %j\\nПолностью: %c\"\n",
    "s = today.strftime(format)\n",
    "print('Вот такможно :', s)"
   ]
  },
  {
   "cell_type": "markdown",
   "metadata": {},
   "source": [
    "### Часовые пояса\n",
    "\n",
    "Все классы этого модуля имеют параметр tzinfo\n",
    "Но использовать его не рекомедуется. Так как при задании времени tzinfo = 0. \n",
    "Для часовых поясов рекомендуется использовать pytz, модуль, который содержит обширные знания о часовых поясах и их особяностях."
   ]
  },
  {
   "cell_type": "code",
   "execution_count": null,
   "metadata": {
    "pycharm": {
     "name": "#%%\n"
    }
   },
   "outputs": [],
   "source": [
    "print('Спасибо за внимание')"
   ]
  },
  {
   "cell_type": "markdown",
   "source": [
    "# Задание\n",
    "\n",
    "Прибавьте к текущей дате 21 час и 365365 дней и выведите результат в формате. Полное название дня недели, год"
   ],
   "metadata": {
    "collapsed": false
   }
  }
 ],
 "metadata": {
  "kernelspec": {
   "display_name": "Python 3",
   "language": "python",
   "name": "python3"
  },
  "language_info": {
   "codemirror_mode": {
    "name": "ipython",
    "version": 3
   },
   "file_extension": ".py",
   "mimetype": "text/x-python",
   "name": "python",
   "nbconvert_exporter": "python",
   "pygments_lexer": "ipython3",
   "version": "3.8.3"
  }
 },
 "nbformat": 4,
 "nbformat_minor": 4
}