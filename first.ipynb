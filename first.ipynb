{
 "cells": [
  {
   "cell_type": "markdown",
   "metadata": {},
   "source": [
    "# Регулярные выражения и модуль re python"
   ]
  },
  {
   "cell_type": "code",
   "execution_count": 6,
   "metadata": {},
   "outputs": [
    {
     "data": {
      "text/html": [
       "<img src=\"https://xkcd.ru/i/208_v1.jpg\" width=\"500\"/>"
      ],
      "text/plain": [
       "<IPython.core.display.Image object>"
      ]
     },
     "metadata": {},
     "output_type": "display_data"
    },
    {
     "data": {
      "text/html": [
       "<img src=\"https://cs6.pikabu.ru/post_img/big/2014/11/20/9/1416497789_1500648248.png\" width=\"500\"/>"
      ],
      "text/plain": [
       "<IPython.core.display.Image object>"
      ]
     },
     "metadata": {},
     "output_type": "display_data"
    },
    {
     "data": {
      "text/html": [
       "<img src=\"http://imgs.xkcd.com/comics/perl_problems.png\" width=\"500\"/>"
      ],
      "text/plain": [
       "<IPython.core.display.Image object>"
      ]
     },
     "metadata": {},
     "output_type": "display_data"
    },
    {
     "data": {
      "text/html": [
       "<img src=\"https://coderlessons.com/wp-content/uploads/images/jcg/9b8950a1e276b18a4ebda09cda5e79fd.jpg\" width=\"500\"/>"
      ],
      "text/plain": [
       "<IPython.core.display.Image object>"
      ]
     },
     "metadata": {},
     "output_type": "display_data"
    }
   ],
   "source": [
    "from IPython.display import Image \n",
    "\n",
    "display(Image(url='https://xkcd.ru/i/208_v1.jpg', width = 500))\n",
    "display(Image(url='https://cs6.pikabu.ru/post_img/big/2014/11/20/9/1416497789_1500648248.png', width = 500))\n",
    "display(Image(url='http://imgs.xkcd.com/comics/perl_problems.png', width = 500))\n",
    "display(Image(url='https://coderlessons.com/wp-content/uploads/images/jcg/9b8950a1e276b18a4ebda09cda5e79fd.jpg', width = 500))\n",
    "\n"
   ]
  },
  {
   "cell_type": "markdown",
   "metadata": {},
   "source": [
    "## Регулярные выражения"
   ]
  },
  {
   "cell_type": "markdown",
   "metadata": {},
   "source": [
    "## Модуль re"
   ]
  },
  {
   "cell_type": "code",
   "execution_count": 11,
   "metadata": {
    "scrolled": false
   },
   "outputs": [],
   "source": [
    "import re"
   ]
  },
  {
   "cell_type": "markdown",
   "metadata": {},
   "source": [
    "        match     Match a regular expression pattern to the beginning of a string.\n",
    "        fullmatch Match a regular expression pattern to all of a string.\n",
    "        search    Search a string for the presence of a pattern.\n",
    "        sub       Substitute occurrences of a pattern found in a string.\n",
    "        subn      Same as sub, but also return the number of substitutions made.\n",
    "        split     Split a string by the occurrences of a pattern.\n",
    "        findall   Find all occurrences of a pattern in a string.\n",
    "        finditer  Return an iterator yielding a Match object for each match.\n",
    "        compile   Compile a pattern into a Pattern object.\n",
    "        purge     Clear the regular expression cache.\n",
    "        escape    Backslash all non-alphanumerics in a string."
   ]
  },
  {
   "cell_type": "markdown",
   "metadata": {},
   "source": [
    "FUNCTIONS\n",
    "    compile(pattern, flags=0)\n",
    "        Compile a regular expression pattern, returning a Pattern object.\n",
    "    \n",
    "    escape(pattern)\n",
    "        Escape special characters in a string.\n",
    "    \n",
    "    findall(pattern, string, flags=0)\n",
    "        Return a list of all non-overlapping matches in the string.\n",
    "        \n",
    "        If one or more capturing groups are present in the pattern, return\n",
    "        a list of groups; this will be a list of tuples if the pattern\n",
    "        has more than one group.\n",
    "        \n",
    "        Empty matches are included in the result.\n",
    "    \n",
    "    finditer(pattern, string, flags=0)\n",
    "        Return an iterator over all non-overlapping matches in the\n",
    "        string.  For each match, the iterator returns a Match object.\n",
    "        \n",
    "        Empty matches are included in the result.\n",
    "    \n",
    "    fullmatch(pattern, string, flags=0)\n",
    "        Try to apply the pattern to all of the string, returning\n",
    "        a Match object, or None if no match was found.\n",
    "    \n",
    "    match(pattern, string, flags=0)\n",
    "        Try to apply the pattern at the start of the string, returning\n",
    "        a Match object, or None if no match was found.\n",
    "    \n",
    "    purge()\n",
    "        Clear the regular expression caches\n",
    "    \n",
    "    search(pattern, string, flags=0)\n",
    "        Scan through string looking for a match to the pattern, returning\n",
    "        a Match object, or None if no match was found.\n",
    "    \n",
    "    split(pattern, string, maxsplit=0, flags=0)\n",
    "        Split the source string by the occurrences of the pattern,\n",
    "        returning a list containing the resulting substrings.  If\n",
    "        capturing parentheses are used in pattern, then the text of all\n",
    "        groups in the pattern are also returned as part of the resulting\n",
    "        list.  If maxsplit is nonzero, at most maxsplit splits occur,\n",
    "        and the remainder of the string is returned as the final element\n",
    "        of the list.\n",
    "    \n",
    "    sub(pattern, repl, string, count=0, flags=0)\n",
    "        Return the string obtained by replacing the leftmost\n",
    "        non-overlapping occurrences of the pattern in string by the\n",
    "        replacement repl.  repl can be either a string or a callable;\n",
    "        if a string, backslash escapes in it are processed.  If it is\n",
    "        a callable, it's passed the Match object and must return\n",
    "        a replacement string to be used.\n",
    "    \n",
    "    subn(pattern, repl, string, count=0, flags=0)\n",
    "        Return a 2-tuple containing (new_string, number).\n",
    "        new_string is the string obtained by replacing the leftmost\n",
    "        non-overlapping occurrences of the pattern in the source\n",
    "        string by the replacement repl.  number is the number of\n",
    "        substitutions that were made. repl can be either a string or a\n",
    "        callable; if a string, backslash escapes in it are processed.\n",
    "        If it is a callable, it's passed the Match object and must\n",
    "        return a replacement string to be used.\n",
    "    \n",
    "    template(pattern, flags=0)\n",
    "        Compile a template pattern, returning a Pattern object\n"
   ]
  },
  {
   "cell_type": "markdown",
   "metadata": {},
   "source": [
    "#### Pattern"
   ]
  },
  {
   "cell_type": "markdown",
   "metadata": {},
   "source": [
    " |  findall(self, /, string, pos=0, endpos=9223372036854775807)\n",
    " |      Return a list of all non-overlapping matches of pattern in string.\n",
    " |  \n",
    " |  finditer(self, /, string, pos=0, endpos=9223372036854775807)\n",
    " |      Return an iterator over all non-overlapping matches for the RE pattern in string.\n",
    " |      \n",
    " |      For each match, the iterator returns a match object.\n",
    " |  \n",
    " |  fullmatch(self, /, string, pos=0, endpos=9223372036854775807)\n",
    " |      Matches against all of the string.\n",
    " |  \n",
    " |  match(self, /, string, pos=0, endpos=9223372036854775807)\n",
    " |      Matches zero or more characters at the beginning of the string.\n",
    " |  \n",
    " |  scanner(self, /, string, pos=0, endpos=9223372036854775807)\n",
    " |  \n",
    " |  search(self, /, string, pos=0, endpos=9223372036854775807)\n",
    " |      Scan through string looking for a match, and return a corresponding match object instance.\n",
    " |      \n",
    " |      Return None if no position in the string matches.\n",
    " |  \n",
    " |  split(self, /, string, maxsplit=0)\n",
    " |      Split string by the occurrences of pattern.\n",
    " |  \n",
    " |  sub(self, /, repl, string, count=0)\n",
    " |      Return the string obtained by replacing the leftmost non-overlapping occurrences of pattern in string by the replacement repl.\n",
    " |  \n",
    " |  subn(self, /, repl, string, count=0)\n",
    " |      Return the tuple (new_string, number_of_subs_made) found by replacing the leftmost non-overlapping occurrences of pattern with the replacement repl."
   ]
  },
  {
   "cell_type": "markdown",
   "metadata": {},
   "source": [
    "#### Match"
   ]
  },
  {
   "cell_type": "markdown",
   "metadata": {},
   "source": [
    "|  end(self, group=0, /)\n",
    " |      Return index of the end of the substring matched by group.\n",
    " |  \n",
    " |  expand(self, /, template)\n",
    " |      Return the string obtained by doing backslash substitution on the string template, as done by the sub() method.\n",
    " |  \n",
    " |  group(...)\n",
    " |      group([group1, ...]) -> str or tuple.\n",
    " |      Return subgroup(s) of the match by indices or names.\n",
    " |      For 0 returns the entire match.\n",
    " |  \n",
    " |  groupdict(self, /, default=None)\n",
    " |      Return a dictionary containing all the named subgroups of the match, keyed by the subgroup name.\n",
    " |      \n",
    " |      default\n",
    " |        Is used for groups that did not participate in the match.\n",
    " |  \n",
    " |  groups(self, /, default=None)\n",
    " |      Return a tuple containing all the subgroups of the match, from 1.\n",
    " |      \n",
    " |      default\n",
    " |        Is used for groups that did not participate in the match.\n",
    " |  \n",
    " |  span(self, group=0, /)\n",
    " |      For match object m, return the 2-tuple (m.start(group), m.end(group)).\n",
    " |  \n",
    " |  start(self, group=0, /)\n",
    " |      Return index of the start of the substring matched by group."
   ]
  },
  {
   "cell_type": "markdown",
   "metadata": {},
   "source": []
  },
  {
   "cell_type": "markdown",
   "metadata": {},
   "source": []
  },
  {
   "cell_type": "code",
   "execution_count": 1,
   "metadata": {
    "scrolled": true
   },
   "outputs": [
    {
     "name": "stdout",
     "output_type": "stream",
     "text": [
      "11\n",
      "А\n",
      "р\n",
      "и\n",
      "н\n",
      "а\n"
     ]
    }
   ],
   "source": [
    "print(5+6)\n",
    "for i in \"Арина\":\n",
    "    print(i)"
   ]
  }
 ],
 "metadata": {
  "kernelspec": {
   "display_name": "Python 3",
   "language": "python",
   "name": "python3"
  },
  "language_info": {
   "codemirror_mode": {
    "name": "ipython",
    "version": 3
   },
   "file_extension": ".py",
   "mimetype": "text/x-python",
   "name": "python",
   "nbconvert_exporter": "python",
   "pygments_lexer": "ipython3",
   "version": "3.8.3"
  }
 },
 "nbformat": 4,
 "nbformat_minor": 1
}