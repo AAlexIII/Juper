{
 "cells": [
  {
   "cell_type": "markdown",
   "metadata": {},
   "source": [
    "# difflib"
   ]
  },
  {
   "cell_type": "markdown",
   "metadata": {},
   "source": [
    "Иной раз нужно что-то сравнить"
   ]
  },
  {
   "cell_type": "code",
   "execution_count": null,
   "metadata": {},
   "outputs": [],
   "source": [
    "text1 = \"\"\"Время лесных малышей\n",
    "\n",
    "Пришло теплое лето. На лисной опушки распускаюца колоколчики, незабутки, шыповник. \n",
    "Белые ромашки пратягивают к сонцу свои нежные лепески. \n",
    "Вылитают из уютных гнёзд птинцы. \n",
    "У зверей взраслеет смена.\n",
    "Мидвежата старше всех. \n",
    "Они радились еще холодной зимой в берлоги. \n",
    "Теперь они послушно следуют за строгай матерью.\n",
    "Рыжые лесята весело играют у нары. \n",
    "А кто мелькает в сасновых ветках? \n",
    "Да это лофкие бельчята совершают свои первые высотные прышки. \n",
    "В сумерках выходят на охоту колючии ежата.\n",
    "Не обижайте лесных малышей. \n",
    "Приходите в лес верными друзями.\"\"\"\n",
    "\n",
    "text1_lines = text1.splitlines()\n",
    "\n",
    "text2 = \"\"\"На лесные опушки распускаема колокольчики, незабудки, шиповник. \n",
    "Белые ромашки протягивают к сенцу свои нежные лепестки. \n",
    "Вылетают из уютных гнёзд птенцы. У зверей взрослеет смена. \n",
    "Медвежата старше всех. Они родились еще холодной зимой в берлоги. \n",
    "Теперь они послушно следуют за строгай матерью. \n",
    "Рыжие лисята весело играют у наров. \n",
    "А кто мелькает в сосновых ветках? \n",
    "Да это ловкие бельчата совершают свои первые высотные прыжки. \n",
    "В сумерках выходят на охоту колючие ежата.\n",
    "Не обижайте лесных малышей. Приходите в лес верными друзами.\n",
    "\"\"\"\n",
    "\n",
    "text2_lines = text2.splitlines()\n",
    "\n",
    "import difflib\n",
    "\n",
    "d = difflib.Differ()\n",
    "diff = d.compare(text1_lines, text2_lines)\n",
    "\n",
    "print('\\n'.join(diff))"
   ]
  },
  {
   "cell_type": "code",
   "execution_count": null,
   "metadata": {},
   "outputs": [],
   "source": [
    "diff = difflib.unified_diff(text1_lines, text2_lines,)\n",
    "diff1 = difflib.context_diff(text1_lines,text2_lines,)\n",
    "print('\\n'.join(diff))\n",
    "print('\\n'.join(diff1))"
   ]
  },
  {
   "cell_type": "code",
   "execution_count": null,
   "metadata": {
    "scrolled": true
   },
   "outputs": [],
   "source": [
    "from difflib import SequenceMatcher\n",
    "\n",
    "A = text1\n",
    "B = text2\n",
    "\n",
    "s1 = SequenceMatcher(None,text1, text2)\n",
    "match = s1.find_longest_match(0, len(text2), 0, len(text2))\n",
    "\n",
    "print(type(match))\n",
    "print(match.a)\n",
    "print(match.b)\n",
    "print(match.size)\n",
    "print('  A[a:a+size] = {!r}'.format(A[match.a:match.a + match.size]))\n",
    "print('  B[b:b+size] = {!r}'.format(B[match.b:match.b + match.size]))\n"
   ]
  },
  {
   "cell_type": "markdown",
   "metadata": {},
   "source": [
    "'replace'\tЗамени a[i1:i2] на b[j1:j2]\n",
    "'delete'\tУдали a[i1:i2]\n",
    "'insert'\tДобавь b[j1:j2] на место a[i1:i1]\n",
    "'equal'\t Выражения уже равны"
   ]
  },
  {
   "cell_type": "code",
   "execution_count": null,
   "metadata": {},
   "outputs": [],
   "source": [
    "s2.get_opcodes()"
   ]
  },
  {
   "cell_type": "markdown",
   "metadata": {},
   "source": [
    "## Задание\n",
    "\n",
    "Напишите программу, которая исправит неверный текст и по ходу выполнения будет выводить места, где текст одинаковый\n",
    "\n",
    "Подсказка на https://pymotw.com/3/difflib/index.html"
   ]
  }
 ],
 "metadata": {
  "kernelspec": {
   "display_name": "Python 3",
   "language": "python",
   "name": "python3"
  },
  "language_info": {
   "codemirror_mode": {
    "name": "ipython",
    "version": 3
   },
   "file_extension": ".py",
   "mimetype": "text/x-python",
   "name": "python",
   "nbconvert_exporter": "python",
   "pygments_lexer": "ipython3",
   "version": "3.8.3"
  }
 },
 "nbformat": 4,
 "nbformat_minor": 4
}
